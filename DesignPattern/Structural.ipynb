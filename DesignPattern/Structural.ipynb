{
 "cells": [
  {
   "cell_type": "markdown",
   "id": "1b7a9424-ce8c-4e43-b4f5-be6cd3b84b64",
   "metadata": {},
   "source": [
    "# Adapter Method\n",
    "\n",
    "Adapter hiểu đơn giản là một lớp chuẩn hóa, nhằm để các đối tượng không tương tích có thể tương thích với nhau. \n",
    "\n",
    "Ví dụ, chúng ta đang sử dụng điện thế 220V, trong khi các thiết bị điện tử chỉ tương thích với điện thế 15V. Chính vì thế các cục sạc đã được thiết kế có adapter để có thể tương thích với điện thế dân dụng 220V.\n",
    "\n",
    "Một ví dụ khác, bạn có một module xử lý với dữ liệu dạng .json. Sau một thời gian, lượng dữ liệu tăng lên với nhiều định dạng khác nhau: .txt, .xml, .csv, ... Thay vì bạn phải sửa module xử lý dữ liệu của mình, thì giờ chúng ta sẽ viết thêm một cục Adapter để parse toàn bộ dữ liệu sang dạng chỉ json."
   ]
  },
  {
   "cell_type": "code",
   "execution_count": 28,
   "id": "a2f134fc-9fe8-4ffd-9b4f-4dd386684fb2",
   "metadata": {},
   "outputs": [
    {
     "name": "stdout",
     "output_type": "stream",
     "text": [
      "Json object: {'text': 'FOO'} \n",
      "\n",
      "Text string: FOO \n",
      "\n",
      "Adapter: {'text': 'BAR'} \n",
      "\n"
     ]
    }
   ],
   "source": [
    "import json\n",
    "\n",
    "class JsonView:\n",
    "    def display(self):\n",
    "        doc = {\"text\": \"FOO\"}\n",
    "        print(\"Json object:\", doc,'\\n')\n",
    "\n",
    "class TextView:\n",
    "    def display(self):\n",
    "        print(\"Text string:\", \"FOO\",'\\n')\n",
    "\n",
    "class Adapter(JsonView):\n",
    "    \"\"\"\n",
    "    The Adapter converts text string to json object\n",
    "    \"\"\"\n",
    "    def __init__(self, adaptee: TextView) -> None:\n",
    "        self.adaptee = adaptee\n",
    "\n",
    "    def display(self, text: str):\n",
    "        doc = {\"text\": text}\n",
    "        print(\"Adapter:\", doc,'\\n')\n",
    "\n",
    "\n",
    "if __name__ == \"__main__\":\n",
    "    target = JsonView()\n",
    "    target.display()\n",
    "\n",
    "    adaptee = TextView()\n",
    "    adaptee.display()\n",
    "\n",
    "    adapter = Adapter(adaptee)\n",
    "    adapter.display(\"BAR\")"
   ]
  },
  {
   "cell_type": "markdown",
   "id": "0c2e46a8-d1f3-4ef2-b67e-0779c21ffe8b",
   "metadata": {},
   "source": [
    "# Bridge Method\n",
    "\n",
    "Bridge method giúp bạn tách một lớp khổng lồ hoặc một tập hợp lớp có quan hệ gần gũi với nhau thành hai hệ thống phân cấp lớp riêng biệt là - abstraction (trừu tượng) và implementation (triển khai) - có thể phát triển độc lập với nhau. Method này có concept gần giống như nguyên tắc Single Responsibility, vì nó tách rời phần abstraction khỏi việc triển khai (implementation), thằng nào làm nhiệm vụ của thằng đó.\n",
    "\n",
    "Ví dụ sau đây, chúng ta muốn xây dựng hệ thống điều khiển remote cho nhiều loại thiết bị điện tử: TV, DVD, ... với các tính năng và lệnh khác nhau, thì triển khai như thế nào?"
   ]
  },
  {
   "cell_type": "code",
   "execution_count": 36,
   "id": "67d6d5de-11e6-4d96-b1e5-b0c90cb02a27",
   "metadata": {},
   "outputs": [],
   "source": [
    "from abc import ABC, abstractmethod\n",
    "\n",
    "# Abstraction\n",
    "class RemoteControl:\n",
    "    \"\"\"\n",
    "    Xây dựng abstract interface, reference đến một đối tượng implementation (ở đây là device)\n",
    "    \"\"\"\n",
    "    def __init__(self, device):\n",
    "        self._device = device\n",
    "\n",
    "    @abstractmethod\n",
    "    def toggle_power(self):\n",
    "        self._device.toggle_power()\n",
    "\n",
    "    @abstractmethod\n",
    "    def volume_up(self):\n",
    "        self._device.volume_up()\n",
    "\n",
    "    @abstractmethod\n",
    "    def volume_down(self):\n",
    "        self._device.volume_down()\n",
    "\n",
    "\n",
    "# Implementation\n",
    "class Device:\n",
    "    \"\"\"\n",
    "    Xây dựng implementation interface\n",
    "    \"\"\"\n",
    "    @abstractmethod\n",
    "    def toggle_power(self):\n",
    "        pass\n",
    "\n",
    "    @abstractmethod\n",
    "    def volume_up(self):\n",
    "        pass\n",
    "\n",
    "    @abstractmethod\n",
    "    def volume_down(self):\n",
    "        pass"
   ]
  },
  {
   "cell_type": "code",
   "execution_count": 37,
   "id": "cc977a14-12ed-4013-b27c-3f061367335c",
   "metadata": {},
   "outputs": [
    {
     "name": "stdout",
     "output_type": "stream",
     "text": [
      "Basic Remote: Press power button\n",
      "TV: Toggling power\n",
      "TV: Volume up\n",
      "DVD Player: Toggling power\n",
      "Advanced Remote: Mute button pressed\n",
      "DVD Player: Volume down\n"
     ]
    }
   ],
   "source": [
    "# Concrete Implementations for Devices\n",
    "class TV(Device):\n",
    "    \"\"\"\n",
    "    Xây dựng một Concrete Implementation cụ thể, ở đây là TV\n",
    "    \"\"\"\n",
    "    def toggle_power(self):\n",
    "        print(\"TV: Toggling power\")\n",
    "\n",
    "    def volume_up(self):\n",
    "        print(\"TV: Volume up\")\n",
    "\n",
    "    def volume_down(self):\n",
    "        print(\"TV: Volume down\")\n",
    "\n",
    "\n",
    "class DVDPlayer(Device):\n",
    "    \"\"\"\n",
    "    Thêm một Concrete Implementation khác, ở đây là DVD\n",
    "    \"\"\"\n",
    "    def toggle_power(self):\n",
    "        print(\"DVD Player: Toggling power\")\n",
    "\n",
    "    def volume_up(self):\n",
    "        print(\"DVD Player: Volume up\")\n",
    "\n",
    "    def volume_down(self):\n",
    "        print(\"DVD Player: Volume down\")\n",
    "\n",
    "\n",
    "# Abstraction and Refined Abstraction\n",
    "class BasicRemoteControl(RemoteControl):\n",
    "    def toggle_power(self):\n",
    "        print(\"Basic Remote: Press power button\")\n",
    "        super().toggle_power()\n",
    "\n",
    "class AdvancedRemoteControl(RemoteControl):\n",
    "    \"\"\"\n",
    "    Mở rộng abstract với các method khác.\n",
    "    \"\"\"\n",
    "    def mute(self):\n",
    "        print(\"Advanced Remote: Mute button pressed\")\n",
    "        self._device.volume_down()\n",
    "\n",
    "\n",
    "# Client Code\n",
    "if __name__ == \"__main__\":\n",
    "    tv = TV()\n",
    "    dvd_player = DVDPlayer()\n",
    "\n",
    "    basic_remote_tv = BasicRemoteControl(tv)\n",
    "    advanced_remote_dvd = AdvancedRemoteControl(dvd_player)\n",
    "\n",
    "    basic_remote_tv.toggle_power()\n",
    "    basic_remote_tv.volume_up()\n",
    "\n",
    "    advanced_remote_dvd.toggle_power()\n",
    "    advanced_remote_dvd.mute()"
   ]
  },
  {
   "cell_type": "markdown",
   "id": "62bf58ab-4a2a-4924-a642-565cacd28cb3",
   "metadata": {},
   "source": [
    "Sau này, chúng ta có thể dễ dàng thêm device mới, loại remote mới mà không cần thay đổi code hiện tại, sẽ dễ dàng bảo trì và mở rộng hơn."
   ]
  },
  {
   "cell_type": "markdown",
   "id": "fdd479c0-2158-44e5-95b5-7cd32b1dd3cf",
   "metadata": {},
   "source": [
    "# Composite Method\n",
    "\n",
    "Composite method cho phép chúng ta sắp xếp các đối tượng thành cấu trúc Tree. Khi đó:\n",
    "- Bạn có thể xử lý các đối tượng theo cùng một cách mà  không phân biệt chúng là đối tượng đơn lẻ (leaf) hay là thành phần của một cấu trúc lớn hơn (composite).\n",
    "- Dễ dàng thêm mới các thành phần: Bạn có thể thêm hoặc loại bỏ các thành phần từ cấu trúc cây mà không cần thay đổi code hiện tại, giúp code trở nên linh hoạt và dễ bảo trì.\n",
    "\n",
    "Ví dụ sau đây biểu diễn một cây hệ thống tệp (file system tree):\n",
    "\n",
    "- `FileSystemComponent` là một interface chung cho cả file và directory.\n",
    "- `File` là một leaf class, biểu diễn một file trong hệ thống tệp.\n",
    "- `Directory` là một composite class, biểu diễn một thư mục trong hệ thống tệp, có thể chứa cả các file và thư mục con.\n",
    "- Tiến hành tạo các file và thư mục, sau đó thêm chúng vào các thư mục khác nhau.\n",
    "- Cuối cùng, chúng ta tạo ra một thư mục gốc (root dir) chứa các thư mục và file đã tạo."
   ]
  },
  {
   "cell_type": "code",
   "execution_count": 41,
   "id": "eb978936-534c-46dd-b0b4-5b5efeeeed71",
   "metadata": {},
   "outputs": [
    {
     "name": "stdout",
     "output_type": "stream",
     "text": [
      "Directory: Root Directory\n",
      "Directory: Directory 1\n",
      "File: file1.txt\n",
      "File: file2.txt\n",
      "Directory: Directory 2\n",
      "File: file3.txt\n"
     ]
    }
   ],
   "source": [
    "from abc import ABC, abstractmethod\n",
    "\n",
    "# Component interface\n",
    "class FileSystemComponent:\n",
    "    @abstractmethod\n",
    "    def display(self):\n",
    "        pass\n",
    "\n",
    "# Leaf class\n",
    "class File(FileSystemComponent):\n",
    "    def __init__(self, name):\n",
    "        self.name = name\n",
    "\n",
    "    def display(self):\n",
    "        \"\"\"\n",
    "        File là đơn vị nhỏ nhất (child element), nên chỉ display chính nó\n",
    "        \"\"\"\n",
    "        print(\"File:\", self.name)\n",
    "\n",
    "# Composite class\n",
    "class Directory(FileSystemComponent):\n",
    "    def __init__(self, name):\n",
    "        self.name = name\n",
    "        self.components = []\n",
    "\n",
    "    def add_component(self, component):\n",
    "        \"\"\"\n",
    "        Thêm một component mới\n",
    "        \"\"\"\n",
    "        self.components.append(component)\n",
    "\n",
    "    def remove_component(self, component):\n",
    "        \"\"\"\n",
    "        Xóa bỏ một component\n",
    "        \"\"\"\n",
    "        self.components.remove(component)\n",
    "\n",
    "    def display(self):\n",
    "        \"\"\"\n",
    "        Display tất cả các components con\n",
    "        \"\"\"\n",
    "        print(\"Directory:\", self.name)\n",
    "        for component in self.components:\n",
    "            component.display()\n",
    "\n",
    "\n",
    "# Client code\n",
    "if __name__ == \"__main__\":\n",
    "    # Create files\n",
    "    file1 = File(\"file1.txt\")\n",
    "    file2 = File(\"file2.txt\")\n",
    "    file3 = File(\"file3.txt\")\n",
    "\n",
    "    # Create directories\n",
    "    dir1 = Directory(\"Directory 1\")\n",
    "    dir2 = Directory(\"Directory 2\")\n",
    "\n",
    "    # Add files to directories\n",
    "    dir1.add_component(file1)\n",
    "    dir1.add_component(file2)\n",
    "    dir2.add_component(file3)\n",
    "\n",
    "    # Create composite directory\n",
    "    root_dir = Directory(\"Root Directory\")\n",
    "    root_dir.add_component(dir1)\n",
    "    root_dir.add_component(dir2)\n",
    "\n",
    "    # Display the file system tree\n",
    "    root_dir.display()"
   ]
  },
  {
   "cell_type": "markdown",
   "id": "5bc50e81-d07b-4304-818c-96385f22e347",
   "metadata": {},
   "source": [
    "Như chúng ta có thể thấy, khi gọi `root_dir.display()`, composite sẽ đệ quy gọi vào các component nhỏ hơn và các leaf để hiển thị cây hệ thống tệp."
   ]
  },
  {
   "cell_type": "markdown",
   "id": "d3785b6c-53d5-46a4-b560-14ec576fa5b2",
   "metadata": {},
   "source": [
    "# Decorator Method\n",
    "\n",
    "Decorator method cho phép chúng ta mở rộng hành vi của một đối tượng mà không cần phải thay đổi mã nguồn gốc của nó. Việc này có thể được thực hiện bằng cách truyền đối tượng gốc qua chuỗi các decorator, trong đó mỗi decorator là một function cung cấp hành vi cần bổ sung vào đổi tượng gốc.\n",
    "\n",
    "Dưới đây là một ví dụ đơn giản sử dụng decorator để xử lý text:"
   ]
  },
  {
   "cell_type": "code",
   "execution_count": 61,
   "id": "bb5a54f6-a8cb-4c8f-9066-c71f311e1dbb",
   "metadata": {},
   "outputs": [
    {
     "name": "stdout",
     "output_type": "stream",
     "text": [
      "HELLO, ALICE!\n"
     ]
    }
   ],
   "source": [
    "def uppercase_decorator(func):\n",
    "    def wrapper(text):\n",
    "        result = func(text)\n",
    "        return result.upper()\n",
    "    return wrapper\n",
    "\n",
    "@uppercase_decorator\n",
    "def greet(name):\n",
    "    return f\"Hello, {name}!\"\n",
    "\n",
    "print(greet(\"Alice\"))"
   ]
  },
  {
   "cell_type": "markdown",
   "id": "c817c268-8d19-4a72-9aea-3347f7a8d968",
   "metadata": {},
   "source": [
    "Trong ví dụ trên, `uppercase_decorator` là một hàm decorator. Nó nhận một hàm khác làm đối số và trả về một hàm mới mở rộng hành vi của hàm ban đầu. Khi chúng ta gọi hàm greet, nó sẽ được thực thi thông qua hàm decorator và kết quả được chuyển thành chữ in hoa.\n",
    "\n",
    "Một ví dụ khác khi sử dụng decorator để ghi log:"
   ]
  },
  {
   "cell_type": "code",
   "execution_count": 82,
   "id": "425155eb-949d-4e27-9b32-ebc6de58b364",
   "metadata": {},
   "outputs": [],
   "source": [
    "import time\n",
    "\n",
    "def log_writer(log_file):\n",
    "    def decorator(func):\n",
    "        def wrapper(*args, **kwargs):\n",
    "            start_time = time.time()\n",
    "            result = func(*args, **kwargs)\n",
    "            total_time = time.time() - start_time\n",
    "            output = f\"Result: {result}, Time: {round(total_time, 4)}\\n\"\n",
    "            with open(log_file, 'a') as f:\n",
    "                f.write(output)\n",
    "            return output\n",
    "        return wrapper\n",
    "    return decorator\n",
    "\n",
    "@log_writer(\"test.txt\")\n",
    "def test():\n",
    "    import random\n",
    "    time.sleep(random.randint(0, 1))\n",
    "    return random.randrange(0, 10)\n",
    "\n",
    "@log_writer(\"test2.txt\")\n",
    "def test2():\n",
    "    import random\n",
    "    time.sleep(random.randint(1, 2))\n",
    "    return random.choice([\"apple\", \"banana\", \"cherry\"])\n",
    "\n",
    "if __name__ == \"__main__\":\n",
    "    for _ in range(3):\n",
    "        test()\n",
    "        test2()"
   ]
  },
  {
   "cell_type": "code",
   "execution_count": 83,
   "id": "db85fd86-2711-4833-a893-af6ba0bebdf1",
   "metadata": {},
   "outputs": [
    {
     "name": "stdout",
     "output_type": "stream",
     "text": [
      "Result: 4, Time: 0.0\n",
      "Result: 3, Time: 1.0011\n",
      "Result: 9, Time: 0.0\n",
      "\n",
      "\n",
      "Result: apple, Time: 1.0007\n",
      "Result: cherry, Time: 1.0011\n",
      "Result: cherry, Time: 2.0021\n"
     ]
    }
   ],
   "source": [
    "!cat test.txt && echo $'\\n' && cat test2.txt"
   ]
  },
  {
   "cell_type": "markdown",
   "id": "ce859546-6404-48d7-9a09-37fb103a0196",
   "metadata": {},
   "source": [
    "Trong ví dụ trên, `log_writer` là một hàm decorator, nhận tham số `log_file` truyền vào. Decorator này chạy qua hàm chính, lấy kết quả và tính thời gian thực thi để ghi vào file log. Sau này chúng ta muốn ghi log khi chạy qua một hàm bất kỳ thì chỉ cần thêm hàm decorator `log_writer` là được."
   ]
  },
  {
   "cell_type": "markdown",
   "id": "423ddbd3-ff3a-48b8-b186-dd84ad424c92",
   "metadata": {},
   "source": [
    "# Facade Method\n",
    "\n",
    "Facade method cho phép chúng ta triển khai interface giao tiếp giữa client và các hệ thống con một cách dễ dàng.\n",
    "\n",
    "Ví dụ trong thực tế, một chiếc máy giặt có thể giặt, xả hay vắt quần áo nhưng tất cả các công việc đều riêng biệt. Khi đó chúng ta sẽ phải cần đến một hệ thống có thể tự động toàn bộ công việc mà không cần can thiệp, đó chính là Facade."
   ]
  },
  {
   "cell_type": "code",
   "execution_count": 85,
   "id": "70587abd-bfd5-43d9-92d9-eaba71efdbac",
   "metadata": {},
   "outputs": [
    {
     "name": "stdout",
     "output_type": "stream",
     "text": [
      "Washing...\n",
      "Rinsing...\n",
      "Spinning...\n"
     ]
    }
   ],
   "source": [
    "\"\"\"Facade pattern with an example of WashingMachine\"\"\"\n",
    "class Washing: \n",
    "    '''Subsystem # 1'''\n",
    "    def wash(self): \n",
    "        print(\"Washing...\") \n",
    "\n",
    "\n",
    "class Rinsing: \n",
    "    '''Subsystem # 2'''\n",
    "    def rinse(self): \n",
    "        print(\"Rinsing...\") \n",
    "\n",
    "\n",
    "class Spinning: \n",
    "    '''Subsystem # 3'''\n",
    "    def spin(self): \n",
    "        print(\"Spinning...\") \n",
    "\n",
    "\n",
    "class WashingMachine: \n",
    "    '''Facade'''\n",
    "    def __init__(self): \n",
    "        self.washing = Washing() \n",
    "        self.rinsing = Rinsing() \n",
    "        self.spinning = Spinning() \n",
    "\n",
    "    def startWashing(self): \n",
    "        self.washing.wash() \n",
    "        self.rinsing.rinse() \n",
    "        self.spinning.spin() \n",
    "\n",
    "\n",
    "\"\"\" client code \"\"\"\n",
    "if __name__ == \"__main__\": \n",
    "    washingMachine = WashingMachine()\n",
    "    washingMachine.startWashing()"
   ]
  },
  {
   "cell_type": "markdown",
   "id": "a8a4c26e-2dc5-4019-bd02-06354068eb92",
   "metadata": {},
   "source": [
    "#### Khi nào thì sử dụng Facade?\n",
    "\n",
    "- Gom nhóm chức năng lại để client dễ sử dụng, thay vì phải tìm hiểu quy trình xử lý của chương trình.\n",
    "- Đóng gói nhiều chức năng, che giấu thuật toán phức tạp.\n",
    "- Xây dựng một interface đơn giản, dễ sử dụng mà không bị phụ thuộc quá nhiều vào hệ thống con.\n",
    "\n",
    "#### Rủi ro khi sử dụng Facade?\n",
    "- Facade của bạn có thể trở lên quá lớn, làm quá nhiều nhiệm vụ với nhiều hàm chức năng trong nó -> phá vỡ quy tắc SOLID.\n",
    "- Dư thừa, khi mà hệ thống của bạn không quá phức tạp, ít hệ thống con.\n"
   ]
  },
  {
   "cell_type": "markdown",
   "id": "e3c8dbc6-dfe4-408f-8d0b-4533d3f26b0e",
   "metadata": {},
   "source": [
    "# Proxy Method\n",
    "\n",
    "Proxy Method cho phép chúng ta tạo ra một lớp trung gian (proxy) để kiểm soát quyền truy cập vào đối tượng thực sự, hay nói cách khác nó cung cấp một đối tượng thay thế cho một đối tượng thực sự, từ đó cho phép kiểm soát hoặc mở rộng hành vi của đối tượng đó một cách linh hoạt.\n",
    "\n",
    "Ví dụ trong thực tế, thẻ ATM là thứ \"đại diện\" cho tiền mặt trong tài khoản ngân hàng của chúng ta, nó chính là `Proxy` để kiểm soát và quản lý quyền truy cập vào đối tượng cụ thể (ở đây chính là tiền mặt). Hay như nginx cũng là một proxy để điều hướng traffic từ port 80, 443 vào các service tương ứng.\n",
    "\n",
    "#### Ứng dụng\n",
    "\n",
    "- Kiểm soát truy cập: proxy kiểm tra xem ai có quyền truy cập hay không, ví dụ: authen, nginx, ...\n",
    "- Quản lý hiệu năng: proxy lưu trữ các kết quả đã được tính toán trước đó, tránh việc tính lại nhiều lần, ví dụ: caching, ..."
   ]
  },
  {
   "cell_type": "code",
   "execution_count": 89,
   "id": "fa52b1d8-8c58-48e9-8153-957c7224b9d2",
   "metadata": {},
   "outputs": [
    {
     "name": "stdout",
     "output_type": "stream",
     "text": [
      "Executing query: SELECT * FROM table1\n",
      "Results for query: SELECT * FROM table1\n",
      "\n",
      "Executing query: SELECT * FROM table2\n",
      "Results for query: SELECT * FROM table2\n",
      "\n",
      "CacheProxy: Returning cached result for query: SELECT * FROM table1\n",
      "Results for query: SELECT * FROM table1\n",
      "\n",
      "Executing query: SELECT * FROM table3\n",
      "Results for query: SELECT * FROM table3\n",
      "\n"
     ]
    }
   ],
   "source": [
    "\"\"\"\n",
    "Ví dụ sử dụng Proxy để làm cache\n",
    "\"\"\"\n",
    "import time\n",
    "\n",
    "# Define the interface for the Real Subject\n",
    "class DatabaseQuery:\n",
    "    def execute_query(self, query):\n",
    "        pass\n",
    "\n",
    "# Real Subject: Represents the actual database\n",
    "class RealDatabaseQuery(DatabaseQuery):\n",
    "    def execute_query(self, query):\n",
    "        print(f\"Executing query: {query}\")\n",
    "        # Simulate a database query and return the results\n",
    "        return f\"Results for query: {query}\\n\"\n",
    "\n",
    "\n",
    "# Proxy: Caching Proxy for Database Queries\n",
    "class CacheProxy(DatabaseQuery):\n",
    "    def __init__(self, real_database_query, cache_duration_seconds):\n",
    "        self._real_database_query = real_database_query\n",
    "        self._cache = {}\n",
    "        self._cache_duration = cache_duration_seconds\n",
    "\n",
    "    def execute_query(self, query):\n",
    "        if query in self._cache and time.time() - self._cache[query][\"timestamp\"] <= self._cache_duration:\n",
    "            # Return cached result if it's still valid\n",
    "            print(f\"CacheProxy: Returning cached result for query: {query}\")\n",
    "            return self._cache[query][\"result\"]\n",
    "        else:\n",
    "            # Execute the query and cache the result\n",
    "            result = self._real_database_query.execute_query(query)\n",
    "            self._cache[query] = {\"result\": result, \"timestamp\": time.time()}\n",
    "            return result\n",
    "\n",
    "\n",
    "# Client code\n",
    "if __name__ == \"__main__\":\n",
    "    # Create the Real Subject\n",
    "    real_database_query = RealDatabaseQuery()\n",
    "\n",
    "    # Create the Cache Proxy with a cache duration of 5 seconds\n",
    "    cache_proxy = CacheProxy(real_database_query, cache_duration_seconds=5)\n",
    "\n",
    "    # Perform database queries, some of which will be cached\n",
    "    print(cache_proxy.execute_query(\"SELECT * FROM table1\"))\n",
    "    print(cache_proxy.execute_query(\"SELECT * FROM table2\"))\n",
    "    time.sleep(3)  # Sleep for 3 seconds\n",
    "    \n",
    "    # Should return cached result\n",
    "    print(cache_proxy.execute_query(\"SELECT * FROM table1\"))\n",
    "    print(cache_proxy.execute_query(\"SELECT * FROM table3\"))"
   ]
  },
  {
   "cell_type": "code",
   "execution_count": 93,
   "id": "695ef447-143a-47b3-8f0a-c94e526fca3c",
   "metadata": {},
   "outputs": [
    {
     "name": "stdout",
     "output_type": "stream",
     "text": [
      "Proxy in action. Checking fee balance: 1000\n",
      "Your fee balance is greater than 500, first pay the fee.\n",
      "\n",
      "Proxy in action. Checking fee balance: 100\n",
      "Studying In College....\n",
      "\n"
     ]
    }
   ],
   "source": [
    "\"\"\"\n",
    "Ví dụ sử dụng Proxy để kiểm soát truy cập: validation, protection\n",
    "\"\"\"\n",
    "class College: \n",
    "    '''Resource-intensive object'''\n",
    "    def studyingInCollege(self): \n",
    "        print(\"Studying In College....\\n\") \n",
    "\n",
    "\n",
    "class CollegeProxy: \n",
    "    '''Relatively less resource-intensive proxy acting as middleman. \n",
    "    Instantiates a College object only if there is no fee due.'''\n",
    "    def __init__(self): \n",
    "        self.feeBalance = 1000\n",
    "        self.college = None\n",
    "\n",
    "    def studyingInCollege(self): \n",
    "        print(f\"Proxy in action. Checking fee balance: {self.feeBalance}\")\n",
    "        if self.feeBalance <= 500:\n",
    "            # If the balance is less than 500, let him study. \n",
    "            self.college = College() \n",
    "            self.college.studyingInCollege() \n",
    "        else: \n",
    "            # Otherwise, don't instantiate the college object. \n",
    "            print(\"Your fee balance is greater than 500, first pay the fee.\\n\") \n",
    "\n",
    "# Client code\n",
    "if __name__ == \"__main__\": \n",
    "    # Instantiate the Proxy \n",
    "    collegeProxy = CollegeProxy() \n",
    "\n",
    "    # Client attempting to study in the college at the default balance of 1000. \n",
    "    # Logically, since he / she cannot study with such balance, \n",
    "    # there is no need to make the college object. \n",
    "    collegeProxy.studyingInCollege() \n",
    "\n",
    "    # Altering the balance of the student \n",
    "    collegeProxy.feeBalance = 100\n",
    "    # Client attempting to study in college at the balance of 100. Should succeed. \n",
    "    collegeProxy.studyingInCollege()"
   ]
  },
  {
   "cell_type": "markdown",
   "id": "7c04ebef-a992-4a72-be19-3c444e28aec2",
   "metadata": {},
   "source": [
    "# Flyweight Method\n",
    "\n",
    "Flyweight Method cho phép chúng ta giảm thiểu số lượng object mà chương trình yêu cầu khi đang chạy, hiểu nôm na là đối tượng Flyweight có thể được share cho các đối tượng, và khi đó chúng ta sẽ không thể phân biệt giữa một object và một Flyweight object.\n",
    "\n",
    "Các bước triển khai Flyweight method:\n",
    "- Xây dựng các phần được chia sẻ, không thể thay đổi của một đối tượng.\n",
    "- Xây dựng các phần có thể thay đổi, theo ngữ cảnh cụ thể của một đối tượng.\n",
    "\n",
    "Ví dụ thực tế, giả sử chúng ta đang xây dựng một trình soạn thảo văn bản đơn giản và muốn biểu diễn các ký tự dưới dạng đối tượng. Tuy nhiên, thay vì tạo một đối tượng riêng cho từng ký tự, chúng ta sẽ sử dụng mẫu Flyweight để chia sẻ thông tin chung về ký tự."
   ]
  },
  {
   "cell_type": "code",
   "execution_count": 100,
   "id": "410f7728-d805-46cb-8a7b-86006e23c734",
   "metadata": {},
   "outputs": [
    {
     "name": "stdout",
     "output_type": "stream",
     "text": [
      "Object id: 139701667453152, Character: A, Font Size: 12\n",
      "\n",
      "Object id: 139701666563264, Character: B, Font Size: 13\n",
      "\n",
      "Object id: 139701667453152, Character: A, Font Size: 14\n",
      "\n"
     ]
    }
   ],
   "source": [
    "class CharFlyweight:\n",
    "    def __init__(self, char):\n",
    "        self.char = char\n",
    "\n",
    "class CharFactory:\n",
    "    char_flyweights = {}\n",
    "\n",
    "    @staticmethod\n",
    "    def get_char(char):\n",
    "        \"\"\"\n",
    "        Kiểm tra char object đã được khởi tạo hay chưa.\n",
    "        - Đã khởi tạo -> trả về object đã khởi tạo, không tạo thêm để tiết kiệm bộ nhớ\n",
    "        - Chưa khởi tạo -> khởi tạo -> lưu vào cache để sau dùng lại.\n",
    "        \"\"\"\n",
    "        if char not in CharFactory.char_flyweights:\n",
    "            CharFactory.char_flyweights[char] = CharFlyweight(char)\n",
    "        return CharFactory.char_flyweights[char]\n",
    "\n",
    "class Character:\n",
    "    def __init__(self, char, font_size):\n",
    "        # Thông tin về ký tự được chia sẻ\n",
    "        self.char_flyweight = CharFactory.get_char(char)\n",
    "        # Thông tin về font size thì có thể thay đổi\n",
    "        self.font_size = font_size\n",
    "\n",
    "    def render(self):\n",
    "        print(f\"Object id: {id(self.char_flyweight)}, Character: {self.char_flyweight.char}, Font Size: {self.font_size}\\n\")\n",
    "\n",
    "\n",
    "# Client code\n",
    "if __name__ == \"__main__\":\n",
    "    characters = []\n",
    "    characters.append(Character('A', 12))\n",
    "    characters.append(Character('B', 13))\n",
    "    characters.append(Character('A', 14))  # Reusing 'A' from flyweight\n",
    "\n",
    "    for character in characters:\n",
    "        character.render()"
   ]
  },
  {
   "cell_type": "markdown",
   "id": "5875d602-f0b8-4265-94d8-202572a9650c",
   "metadata": {},
   "source": [
    "Đi đến đây chúng ta có thể thấy `Flyweight` khá giống với `Singleton`, ở chỗ nó sử dụng lại đối tượng đã được khởi tạo. Tuy nhiên cần lưu ý như sau:\n",
    "- `Flyweight` sẽ giống với `Singleton` nếu chúng ta có thể giảm tất cả các trạng thái được chia sẻ của đối tượng cuống còn 1 đối tượng.\n",
    "- `Singleton` chỉ có duy nhất một instance, trong khi `Flyweight` có thể có nhiều instance với các trạng thái nội tại khác nhau (Intrinsic state).\n",
    "- `Singleton` có thể thay đổi hoặc bất biến (thay đổi trong trường hợp trong class Singleton chúng ta có các method setter), trong khi đó `Flyweight` là bất biến."
   ]
  },
  {
   "cell_type": "code",
   "execution_count": null,
   "id": "724a4703-3a55-4a70-bf19-e471be46bc8b",
   "metadata": {},
   "outputs": [],
   "source": []
  }
 ],
 "metadata": {
  "kernelspec": {
   "display_name": "Python 3 (ipykernel)",
   "language": "python",
   "name": "python3"
  },
  "language_info": {
   "codemirror_mode": {
    "name": "ipython",
    "version": 3
   },
   "file_extension": ".py",
   "mimetype": "text/x-python",
   "name": "python",
   "nbconvert_exporter": "python",
   "pygments_lexer": "ipython3",
   "version": "3.8.0"
  }
 },
 "nbformat": 4,
 "nbformat_minor": 5
}
