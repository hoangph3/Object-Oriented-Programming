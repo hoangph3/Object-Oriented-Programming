{
 "cells": [
  {
   "cell_type": "markdown",
   "id": "1d048f00-775f-43d8-809e-cf53b4d2bbf3",
   "metadata": {},
   "source": [
    "# Factory Method\n",
    "\n",
    "Factory method là pattern giúp khởi tạo các đối tượng thông qua một interface chung, qua đó:\n",
    "- Che giấu quá trình xử lý logic của phương thức khởi tạo.\n",
    "- Giảm sự phụ thuộc, dễ dàng mở rộng."
   ]
  },
  {
   "cell_type": "code",
   "execution_count": 25,
   "id": "b9bcdcb9-57e4-432a-bb0e-835604e2ea1a",
   "metadata": {},
   "outputs": [
    {
     "name": "stdin",
     "output_type": "stream",
     "text": [
      "Lang: French\n"
     ]
    },
    {
     "name": "stdout",
     "output_type": "stream",
     "text": [
      "voiture\n"
     ]
    }
   ],
   "source": [
    "\"\"\"\n",
    "Đoạn code này không sử dụng Factory Method\n",
    "\"\"\"\n",
    "class FrenchLocalizer:\n",
    "    \"\"\"it simply returns the french version \"\"\"\n",
    "    def __init__(self):\n",
    "        self.translations = {\"car\": \"voiture\", \"bike\": \"bicyclette\",\n",
    "                             \"cycle\":\"cyclette\"}\n",
    "    def localize(self, msg):\n",
    "        \"\"\"change the message using translations\"\"\"\n",
    "        return self.translations.get(msg, msg)\n",
    "\n",
    "\n",
    "class SpanishLocalizer:\n",
    "    \"\"\"it simply returns the spanish version\"\"\"\n",
    "    def __init__(self):\n",
    "        self.translations = {\"car\": \"coche\", \"bike\": \"bicicleta\",\n",
    "                             \"cycle\":\"ciclo\"}\n",
    "    def localize(self, msg):\n",
    "        \"\"\"change the message using translations\"\"\"\n",
    "        return self.translations.get(msg, msg)\n",
    "\n",
    "\n",
    "class EnglishLocalizer:\n",
    "    \"\"\"Simply return the same message\"\"\"\n",
    "    def localize(self, msg):\n",
    "        return msg\n",
    "\n",
    "\n",
    "if __name__ == \"__main__\":\n",
    "    # Business logic\n",
    "    f = FrenchLocalizer()\n",
    "    e = EnglishLocalizer()\n",
    "    s = SpanishLocalizer()\n",
    "\n",
    "    msg = \"car\"\n",
    "    lang = input(\"Lang:\")\n",
    "    if lang == \"French\":\n",
    "        print(f.localize(msg))\n",
    "    elif lang == \"English\":\n",
    "        print(e.localize(msg))\n",
    "    elif lang == \"Spanish\":\n",
    "        print(s.localize(msg))\n",
    "    else:\n",
    "        raise ValueError()"
   ]
  },
  {
   "cell_type": "markdown",
   "id": "f050fe27-8830-4245-9d03-cfdcb3f734e6",
   "metadata": {},
   "source": [
    "Với đoạn code trên, ta có thể nhận thấy các vấn đề như sau:\n",
    "- Code khởi tạo đối tượng nằm ở phía client, bao gồm: FrenchLocalizer, EnglishLocalizer, SpanishLocalizer. Như vậy sau này cứ mỗi lần phía thư viện có update mới, chẳng hạn như support thêm VietnameseLocalizer, JapaneseLocalizer hay ChineseLocalizer, ... thì phía client cũng phải update thêm code khởi tạo để có thể sử dụng được.\n",
    "- Tùy thuộc vào bussiness logic mà chúng ta sẽ tạo ra các object tương ứng, nếu logic này nằm ở nhiều nơi khác nhau thì nó sẽ bị lặp đi lặp lại. Đặc biệt là khi chúng ta muốn thay đổi, chỉnh sửa hay mở rộng, ta đều phải sửa tất cả những nơi có logic đó gây mất thời gian và dễ bị sót hay lỗi.\n",
    "\n",
    "#### Giải pháp\n",
    "- Gom các business logic để khởi tạo object vào một nơi trong chương trình, gọi dân dã là đóng hàm, và nó chính là `factory method`.\n",
    "- Khi đó, người sử dụng (client) đạt được mục đích tạo mới object và không cần quan tâm đến cách nó được tạo ra (vì `factory method` đã che giấu logic này)."
   ]
  },
  {
   "cell_type": "code",
   "execution_count": 30,
   "id": "9aa1bdb4-aa75-423d-9162-e46f02c17438",
   "metadata": {},
   "outputs": [
    {
     "name": "stdin",
     "output_type": "stream",
     "text": [
      "Lang: French\n"
     ]
    },
    {
     "name": "stdout",
     "output_type": "stream",
     "text": [
      "voiture\n"
     ]
    }
   ],
   "source": [
    "\"\"\"\n",
    "Đoạn code áp dụng Factory Method\n",
    "\"\"\"\n",
    "class FrenchLocalizer:\n",
    "    \"\"\"it simply returns the french version \"\"\"\n",
    "    def __init__(self):\n",
    "        self.translations = {\"car\": \"voiture\", \"bike\": \"bicyclette\",\n",
    "                             \"cycle\":\"cyclette\"}\n",
    "    def localize(self, msg):\n",
    "        \"\"\"change the message using translations\"\"\"\n",
    "        return self.translations.get(msg, msg)\n",
    "\n",
    "\n",
    "class SpanishLocalizer:\n",
    "    \"\"\"it simply returns the spanish version\"\"\"\n",
    "    def __init__(self):\n",
    "        self.translations = {\"car\": \"coche\", \"bike\": \"bicicleta\",\n",
    "                             \"cycle\":\"ciclo\"}\n",
    "    def localize(self, msg):\n",
    "        \"\"\"change the message using translations\"\"\"\n",
    "        return self.translations.get(msg, msg)\n",
    "\n",
    "\n",
    "class EnglishLocalizer:\n",
    "    \"\"\"Simply return the same message\"\"\"\n",
    "    def localize(self, msg):\n",
    "        return msg\n",
    "\n",
    "\n",
    "def Factory(language=\"English\"):\n",
    "    \"\"\"Factory Method\"\"\"\n",
    "    localizers = {\n",
    "        \"French\": FrenchLocalizer,\n",
    "        \"English\": EnglishLocalizer,\n",
    "        \"Spanish\": SpanishLocalizer,\n",
    "    }\n",
    "    return localizers[language]()\n",
    "\n",
    "\n",
    "if __name__ == \"__main__\":\n",
    "    message = \"car\"\n",
    "    lang = input(\"Lang:\")\n",
    "    fn = Factory(lang)\n",
    "    print(fn.localize(message))"
   ]
  },
  {
   "cell_type": "markdown",
   "id": "9e4bf54a-e9ae-40c2-b424-936c79677eff",
   "metadata": {},
   "source": [
    "#### Factory method có ưu điểm gì?\n",
    "\n",
    "- Chúng ta có một super class với nhiều class con và dựa trên đầu vào, chúng ta cần trả về một class con. Mô hình này giúp chúng ta đưa trách nhiệm (hay logic if else) của việc khởi tạo một class từ phía người dùng (client) sang lớp Factory là một nơi trong chương trình (đáp ứng Single Responsibility Principle).\n",
    "\n",
    "- Nhờ việc che giấu hay kiểm soát logic khởi tạo, chúng ta có thể tiết kiệm tài nguyên bằng cách sử dụng lại đối tượng hiện có thay vì tạo mới chúng mỗi lần (nghe có vẻ liên quan đến `Singleton`):\n",
    "    - Bạn cần nơi để lưu trữ tất cả các đối tượng đã tạo.\n",
    "    - Khi ai đó yêu cầu một đối tượng, chương trình sẽ thực hiện tìm kiếm đối tượng đó trong pool.\n",
    "    - ...và trả về cho code client.\n",
    "    - Nếu không có đối tượng, chương trình sẽ tạo ra một đối tượng mới (và thêm nó vào pool).\n",
    "\n",
    "- Chúng ta không thể biết được liệu sau này còn có class con nào không. Khi cần mở rộng, hãy tạo subclass và thêm vào Factory Method để khởi tạo subclass này mà không làm ảnh hưởng đến code client hiện tại (đáp ứng Open/Closed Principle). Ví dụ:"
   ]
  },
  {
   "cell_type": "code",
   "execution_count": 32,
   "id": "4ce43304-5690-4ffa-bada-07e66742e84d",
   "metadata": {},
   "outputs": [
    {
     "name": "stdout",
     "output_type": "stream",
     "text": [
      "Vietnamese\n",
      "xe hơi\n"
     ]
    }
   ],
   "source": [
    "# Tạo subclass\n",
    "class VietnameseLocalizer:\n",
    "    \"\"\"it simply returns the spanish version\"\"\"\n",
    "    def __init__(self):\n",
    "        self.translations = {\"car\": \"xe hơi\", \"bike\": \"xe đạp\",\n",
    "                             \"cycle\":\"xích lô\"}\n",
    "    def localize(self, msg):\n",
    "        \"\"\"change the message using translations\"\"\"\n",
    "        return self.translations.get(msg, msg)\n",
    "\n",
    "# Thêm vào Factory Method\n",
    "def Factory(language=\"English\"):\n",
    "    \"\"\"Factory Method\"\"\"\n",
    "    localizers = {\n",
    "        \"French\": FrenchLocalizer,\n",
    "        \"English\": EnglishLocalizer,\n",
    "        \"Spanish\": SpanishLocalizer,\n",
    "        \"Vietnamese\": VietnameseLocalizer\n",
    "    }\n",
    "    return localizers[language]()\n",
    "\n",
    "message = \"car\"\n",
    "lang = \"Vietnamese\"\n",
    "fn = Factory(lang)\n",
    "print(lang)\n",
    "print(fn.localize(message))"
   ]
  },
  {
   "cell_type": "markdown",
   "id": "604aa6a8-9eb6-40cf-89cd-d4336a3fe4ca",
   "metadata": {},
   "source": []
  }
 ],
 "metadata": {
  "kernelspec": {
   "display_name": "Python 3 (ipykernel)",
   "language": "python",
   "name": "python3"
  },
  "language_info": {
   "codemirror_mode": {
    "name": "ipython",
    "version": 3
   },
   "file_extension": ".py",
   "mimetype": "text/x-python",
   "name": "python",
   "nbconvert_exporter": "python",
   "pygments_lexer": "ipython3",
   "version": "3.8.0"
  }
 },
 "nbformat": 4,
 "nbformat_minor": 5
}
