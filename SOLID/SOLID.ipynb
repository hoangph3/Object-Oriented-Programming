{
 "cells": [
  {
   "cell_type": "markdown",
   "id": "e7eb1604-6946-4aa2-8b8d-2f489c40465c",
   "metadata": {},
   "source": [
    "# Single-responsibility principle (SRP)\n",
    "\n",
    "Một class chỉ nên thực hiện một công việc. Nếu một class mà có nhiều hơn một công việc thì khi đó chúng ta nên tách ra mỗi class thực hiện một công việc khác nhau."
   ]
  },
  {
   "cell_type": "code",
   "execution_count": 1,
   "id": "21f1e1ef-a75c-4883-b75d-d364f13bd19c",
   "metadata": {},
   "outputs": [],
   "source": [
    "# file_manager_srp.py\n",
    "\n",
    "from pathlib import Path\n",
    "from zipfile import ZipFile\n",
    "\n",
    "class FileManager:\n",
    "    def __init__(self, filename):\n",
    "        self.path = Path(filename)\n",
    "\n",
    "    def read(self, encoding=\"utf-8\"):\n",
    "        return self.path.read_text(encoding)\n",
    "\n",
    "    def write(self, data, encoding=\"utf-8\"):\n",
    "        self.path.write_text(data, encoding)\n",
    "\n",
    "    def compress(self):\n",
    "        with ZipFile(self.path.with_suffix(\".zip\"), mode=\"w\") as archive:\n",
    "            archive.write(self.path)\n",
    "\n",
    "    def decompress(self):\n",
    "        with ZipFile(self.path.with_suffix(\".zip\"), mode=\"r\") as archive:\n",
    "            archive.extractall()"
   ]
  },
  {
   "cell_type": "markdown",
   "id": "69b00f83-cdb9-4c0e-a73f-4d8f3374ed54",
   "metadata": {},
   "source": [
    "Class trên vi phạm nguyên tắc SRP, do nó cho phép thực hiện 2 nhiệm vụ khác nhau:\n",
    "1. Đọc ghi file.\n",
    "2. Nén/giải nén file.\n",
    "\n",
    "Hai nhiệm vụ này độc lập (có thể theo ý kiến chủ quan), không nên để chung trong cùng 1 class mà nên tách ra để dễ quản lý hơn."
   ]
  },
  {
   "cell_type": "code",
   "execution_count": 2,
   "id": "dbc074f2-3a64-4fe6-9e9c-159c03feb9de",
   "metadata": {},
   "outputs": [],
   "source": [
    "# file_manager_srp.py\n",
    "\n",
    "from pathlib import Path\n",
    "from zipfile import ZipFile\n",
    "\n",
    "class FileManager:\n",
    "    def __init__(self, filename):\n",
    "        self.path = Path(filename)\n",
    "\n",
    "    def read(self, encoding=\"utf-8\"):\n",
    "        return self.path.read_text(encoding)\n",
    "\n",
    "    def write(self, data, encoding=\"utf-8\"):\n",
    "        self.path.write_text(data, encoding)\n",
    "\n",
    "class ZipFileManager:\n",
    "    def __init__(self, filename):\n",
    "        self.path = Path(filename)\n",
    "\n",
    "    def compress(self):\n",
    "        with ZipFile(self.path.with_suffix(\".zip\"), mode=\"w\") as archive:\n",
    "            archive.write(self.path)\n",
    "\n",
    "    def decompress(self):\n",
    "        with ZipFile(self.path.with_suffix(\".zip\"), mode=\"r\") as archive:\n",
    "            archive.extractall()"
   ]
  },
  {
   "cell_type": "markdown",
   "id": "55033065-20da-4f1b-9d07-6339c2b190bf",
   "metadata": {},
   "source": [
    "*** Note:\n",
    "\n",
    "Class thực hiện một nhiệm vụ duy nhất không nhất thiết phải chỉ có chứa 1 method duy nhất, mà quan trọng là nhiệm vụ cốt lõi của nó.\n",
    "\n",
    "Như ở trên, class FileManager đảm nhiệm việc quản lý tệp, trong khi ZipFileManager xử lý việc nén và giải nén tệp với định dạng ZIP.\n",
    "\n",
    "Tại sao phải cần SRP?\n",
    "\n",
    "Giả sử code chúng ta có 5 module khác nhau, trong đó 4 module cần quản lý file (đọc ghi), 1 module còn lại quản lý nén/giải nén file ZIP.\n",
    "Sau một thời gian chạy, ta thấy module quản lý nén/giải nén file có bug -> cần thực hiện fix.\n",
    "- Nếu không áp dụng SRP, ta sẽ phải upcode class FileManager và đồng bộ việc upcode này cho cả 5 module đang sử dụng nó.\n",
    "- Nếu áp dụng SRP, ta chỉ cần upcode mỗi class ZipFileManager cho 1 module, 4 module kia chỉ đọc ghi file nên không cần phải tác động gì."
   ]
  },
  {
   "cell_type": "markdown",
   "id": "4dd7894d-bf46-4c82-a45c-c4e3c3aa338c",
   "metadata": {},
   "source": [
    "# Open-Closed Principle (OCP)\n",
    "\n",
    "Các entities (classes, modules, functions) phải \"open\" để mở rộng, nhưng phải \"close\" để sửa đổi.\n",
    "\n",
    "Ví dụ chúng ta nên mở rộng class (dùng kế thừa) thay vì sửa đổi class gốc, tại vì việc sửa đổi trên class cũ sẽ có thể gây ra bug khi các module khác đang sử dụng class cũ.\n"
   ]
  },
  {
   "cell_type": "code",
   "execution_count": 14,
   "id": "ee80ffaf-8aba-4818-9045-9c4d3a21f3be",
   "metadata": {},
   "outputs": [
    {
     "name": "stdout",
     "output_type": "stream",
     "text": [
      "roar\n",
      "squeak\n"
     ]
    }
   ],
   "source": [
    "class Animal:\n",
    "    def __init__(self, name: str):\n",
    "        self.name = name\n",
    "    \n",
    "    def get_name(self) -> str:\n",
    "        pass\n",
    "\n",
    "animals = [\n",
    "    Animal('lion'),\n",
    "    Animal('mouse')\n",
    "]\n",
    "\n",
    "def animal_sound(animals: list):\n",
    "    for animal in animals:\n",
    "        if animal.name == 'lion':\n",
    "            print('roar')\n",
    "\n",
    "        elif animal.name == 'mouse':\n",
    "            print('squeak')\n",
    "\n",
    "animal_sound(animals)"
   ]
  },
  {
   "cell_type": "markdown",
   "id": "91efd5dc-a822-4e3b-8dc0-3e17bc6ae381",
   "metadata": {},
   "source": [
    "Hàm `animal_sound` không tuân theo nguyên tắc OCP, vì nó không thể mở rộng (open) đối với các loại động vật mới.\n",
    "\n",
    "Dễ thấy là cứ thêm một động vật mới thì chúng ta lại phải đi sửa đổi function gốc, logic sẽ trở nên ngày càng phức tạp với nhiều câu lệnh if else lặp đi lặp lại. Vậy áp dụng OCP như thế nào?"
   ]
  },
  {
   "cell_type": "code",
   "execution_count": 19,
   "id": "f3fa610b-4002-4b3b-a539-827281c08b1d",
   "metadata": {},
   "outputs": [
    {
     "name": "stdout",
     "output_type": "stream",
     "text": [
      "roar\n",
      "squeak\n",
      "hiss\n"
     ]
    }
   ],
   "source": [
    "class Animal:\n",
    "    def __init__(self, name: str):\n",
    "        self.name = name\n",
    "    \n",
    "    def get_name(self) -> str:\n",
    "        pass\n",
    "\n",
    "    def make_sound(self):\n",
    "        pass\n",
    "\n",
    "\n",
    "class Lion(Animal):\n",
    "    def make_sound(self):\n",
    "        return 'roar'\n",
    "\n",
    "\n",
    "class Mouse(Animal):\n",
    "    def make_sound(self):\n",
    "        return 'squeak'\n",
    "\n",
    "\n",
    "class Snake(Animal):\n",
    "    def make_sound(self):\n",
    "        return 'hiss'\n",
    "\n",
    "\n",
    "def animal_sound(animals: list):\n",
    "    for animal in animals:\n",
    "        print(animal.make_sound())\n",
    "\n",
    "\n",
    "animals = [\n",
    "    Lion('lion'),\n",
    "    Mouse('mouse'),\n",
    "    Snake('snake')\n",
    "]\n",
    "animal_sound(animals)"
   ]
  },
  {
   "cell_type": "markdown",
   "id": "409e12eb-f012-45a5-8307-b346631d27df",
   "metadata": {},
   "source": [
    "Bằng cách áp dụng nguyên tắc OCP, mọi loại con vật đều có method `make_sound`, được mở rộng từ class `Animal`.\n",
    "\n",
    "Bây giờ nếu có thêm một con vật mới, tất cả những gì chúng ta cần làm là thêm con vật mới vào mảng.\n",
    "\n",
    "Hãy xem một ví dụ khác:"
   ]
  },
  {
   "cell_type": "code",
   "execution_count": 21,
   "id": "e59c01f7-ead0-443b-a703-dfafd8d919f8",
   "metadata": {},
   "outputs": [],
   "source": [
    "class Discount:\n",
    "    def __init__(self, customer, price):\n",
    "        self.customer = customer\n",
    "        self.price = price\n",
    "\n",
    "    def give_discount(self):\n",
    "        if self.customer == 'fav':\n",
    "            return self.price * 0.2\n",
    "        if self.customer == 'vip':\n",
    "            return self.price * 0.4"
   ]
  },
  {
   "cell_type": "markdown",
   "id": "df801101-a025-4355-86fa-cfd4c1892b87",
   "metadata": {},
   "source": [
    "Method `give_discount` sẽ cần phải update nếu như bạn có thêm nhiều đối tượng khách hàng mới, điều này vi phạm nguyên tắc OCP\n",
    "\n",
    "Thay vào đó, chúng ta sẽ mở rộng bằng cách tạo class mới với method mới."
   ]
  },
  {
   "cell_type": "code",
   "execution_count": 22,
   "id": "fa5676e3-ec0a-4a6f-9e20-24fea3852b5d",
   "metadata": {},
   "outputs": [],
   "source": [
    "class Discount:\n",
    "    def __init__(self, customer, price):\n",
    "        self.customer = customer\n",
    "        self.price = price\n",
    "\n",
    "    def get_discount(self):\n",
    "        # discount 20%\n",
    "        return self.price * 0.2\n",
    "\n",
    "class VIPDiscount(Discount):\n",
    "    def get_discount(self):\n",
    "        # discount 40%\n",
    "        return super().get_discount() * 2\n",
    "\n",
    "class SuperVIPDiscount(VIPDiscount):\n",
    "    def get_discount(self):\n",
    "        # discount 80%\n",
    "        return super().get_discount() * 2"
   ]
  },
  {
   "cell_type": "markdown",
   "id": "7d80a1ed-4dac-4bab-bdd4-11cf121181fa",
   "metadata": {},
   "source": [
    "Việc áp dụng nguyên tắc OCP sẽ phát sinh thêm nhiều class. Tuy nhiên ta sẽ không cần phải test lại các class cũ, thay vào đó chỉ cần test các class mới với các method mới. \n",
    "\n",
    "Nếu sửa trực tiếp vào class hay method cũ, ta sẽ cần phải test lại cả những logic cũ để xem sau khi thêm code mới thì nó có hoạt động như cũ không -> tốn thời gian, có thể gây ra bug."
   ]
  },
  {
   "cell_type": "markdown",
   "id": "e6f3f86d-f6b1-4d75-abf8-81b9b86b0af0",
   "metadata": {},
   "source": [
    "# Liskov Substitution Principle (LSP)\n",
    "Nguyên tắc này nói đến việc các class con có thể thay thế class cha (base) mà chương trình vẫn hoạt động đúng."
   ]
  },
  {
   "cell_type": "code",
   "execution_count": 24,
   "id": "c451530b-67ad-490d-8ee4-ff2bdf2ef580",
   "metadata": {},
   "outputs": [],
   "source": [
    "# shapes_lsp.py\n",
    "\n",
    "class Rectangle:\n",
    "    def __init__(self, width, height):\n",
    "        self.width = width\n",
    "        self.height = height\n",
    "\n",
    "    def calculate_area(self):\n",
    "        print(self.__dict__)\n",
    "        return self.width * self.height\n",
    "\n",
    "\n",
    "class Square(Rectangle):\n",
    "    def __init__(self, side):\n",
    "        super().__init__(side, side)\n",
    "\n",
    "    def __setattr__(self, key, value):\n",
    "        super().__setattr__(key, value)\n",
    "        if key in (\"width\", \"height\"):\n",
    "            self.__dict__[\"width\"] = value\n",
    "            self.__dict__[\"height\"] = value"
   ]
  },
  {
   "cell_type": "markdown",
   "id": "935e83f5-4042-47ae-b059-1a5e2cf6fe20",
   "metadata": {},
   "source": [
    "Trong toán học, hình vuông là trường hợp đặc biệt của hình chữ nhật. Do đó, với class `Square`, ta có thể kế thừa class base `Rectangle` như trên, với hai thuộc tính width và height đều bằng side."
   ]
  },
  {
   "cell_type": "code",
   "execution_count": 27,
   "id": "b72f9c44-683f-45a2-a582-f287181257ef",
   "metadata": {},
   "outputs": [
    {
     "name": "stdout",
     "output_type": "stream",
     "text": [
      "{'width': 2, 'height': 3}\n",
      "6\n",
      "{'width': 4, 'height': 4}\n",
      "16\n"
     ]
    }
   ],
   "source": [
    "rec = Rectangle(width=2, height=3)\n",
    "print(rec.calculate_area())\n",
    "\n",
    "square = Square(side=4)\n",
    "print(square.calculate_area())"
   ]
  },
  {
   "cell_type": "markdown",
   "id": "eb6c7d39-6f7a-469d-881e-490b4e09b467",
   "metadata": {},
   "source": [
    "Đoạn code trên không có gì sai, tuy nhiên nó vi phạm nguyên tắc LSP, khi mà chúng ta không thể thay thế `Rectangle` instance bằng những `Square` instance khác.\n",
    "\n",
    "Trong lập trình, tránh bê nguyên các mối quan hệ của các object ngoài đời sống vào code. Mặc dù hình vuông là trường hợp đặc biệt của hình chữ nhật trong toán học, tuy nhiên ở đây chúng không nên có quan hệ cha-con mà chỉ nên là quan hệ anh-em (kế thừa từ một class base khác và đều có method `calculate_area`) như sau:"
   ]
  },
  {
   "cell_type": "code",
   "execution_count": 28,
   "id": "00bbde0b-fc13-4513-bbce-3bea4ef006c7",
   "metadata": {},
   "outputs": [],
   "source": [
    "# shapes_lsp.py\n",
    "\n",
    "from abc import ABC, abstractmethod\n",
    "\n",
    "class Shape(ABC):\n",
    "    @abstractmethod\n",
    "    def calculate_area(self):\n",
    "        pass\n",
    "\n",
    "class Rectangle(Shape):\n",
    "    def __init__(self, width, height):\n",
    "        self.width = width\n",
    "        self.height = height\n",
    "\n",
    "    def calculate_area(self):\n",
    "        return self.width * self.height\n",
    "\n",
    "class Square(Shape):\n",
    "    def __init__(self, side):\n",
    "        self.side = side\n",
    "\n",
    "    def calculate_area(self):\n",
    "        return self.side ** 2"
   ]
  },
  {
   "cell_type": "markdown",
   "id": "127c7ec4-2f9e-43ba-a608-bb5327eb5bab",
   "metadata": {},
   "source": [
    "Bằng cách áp dụng LSP, ta không cần quan tâm đối tượng thuộc loại nào, miễn là nó có method `calculate_area` thì code vẫn sẽ hoạt động."
   ]
  },
  {
   "cell_type": "code",
   "execution_count": 31,
   "id": "a98b2333-60ed-4f6d-85e9-f6cce32a62a9",
   "metadata": {},
   "outputs": [
    {
     "data": {
      "text/plain": [
       "75"
      ]
     },
     "execution_count": 31,
     "metadata": {},
     "output_type": "execute_result"
    }
   ],
   "source": [
    "def get_total_area(shapes):\n",
    "    return sum(shape.calculate_area() for shape in shapes)\n",
    "\n",
    "get_total_area([Rectangle(10, 5), Square(5)])"
   ]
  },
  {
   "cell_type": "markdown",
   "id": "3ba54c89-d8c4-48ce-84a2-813b56e1426d",
   "metadata": {},
   "source": [
    "# Interface Segregation Principle (ISP)\n",
    "\n",
    "Nguyên tắc này nói đến việc không nên ép buộc các class phải có các methods mà nó ko cần dùng đến.\n",
    "\n",
    "Nói cách khác, nếu một class không sử dụng các attributes hay methods (gọi chung là interfaces) thì các methods và attributes đó sẽ được tách riêng thành các class cụ thể hơn."
   ]
  },
  {
   "cell_type": "code",
   "execution_count": 34,
   "id": "78350d3f-1c66-4933-803c-2205c1c33174",
   "metadata": {},
   "outputs": [],
   "source": [
    "\"\"\"\n",
    "Base class\n",
    "\"\"\"\n",
    "class IShape:\n",
    "    def draw_square(self):\n",
    "        raise NotImplementedError\n",
    "    \n",
    "    def draw_rectangle(self):\n",
    "        raise NotImplementedError\n",
    "    \n",
    "    def draw_circle(self):\n",
    "        raise NotImplementedError\n",
    "\n",
    "\n",
    "\"\"\"\n",
    "Subclasses\n",
    "\"\"\"\n",
    "class Circle(IShape):\n",
    "    def draw_square(self):\n",
    "        pass\n",
    "\n",
    "    def draw_rectangle(self):\n",
    "        pass\n",
    "    \n",
    "    def draw_circle(self):\n",
    "        pass\n",
    "\n",
    "class Square(IShape):\n",
    "    def draw_square(self):\n",
    "        pass\n",
    "\n",
    "    def draw_rectangle(self):\n",
    "        pass\n",
    "    \n",
    "    def draw_circle(self):\n",
    "        pass\n",
    "\n",
    "class Rectangle(IShape):\n",
    "    def draw_square(self):\n",
    "        pass\n",
    "\n",
    "    def draw_rectangle(self):\n",
    "        pass\n",
    "    \n",
    "    def draw_circle(self):\n",
    "        pass"
   ]
  },
  {
   "cell_type": "markdown",
   "id": "274920f4-7248-4630-97e4-89cfa55eceee",
   "metadata": {},
   "source": [
    "Khi triển khai như trên, class `Rectangle` chứa các methods (`draw_circle` và `draw_square`) mà nó không dùng đến, tương tự với class `Square` với các methods `draw_circle`, `draw_ectangle`, và class `Circle` với các methods `draw_square`, `draw_rectangle`.\n",
    "\n",
    "Để đáp ứng nguyên tắc ISP, ta sẽ sửa lại như sau:"
   ]
  },
  {
   "cell_type": "code",
   "execution_count": 35,
   "id": "39469ea5-aa0a-44ae-a65f-ee60bc0d5c68",
   "metadata": {},
   "outputs": [],
   "source": [
    "class IShape:\n",
    "    def draw(self):\n",
    "        raise NotImplementedError\n",
    "\n",
    "class Circle(IShape):\n",
    "    def draw(self):\n",
    "        pass\n",
    "\n",
    "class Square(IShape):\n",
    "    def draw(self):\n",
    "        pass\n",
    "\n",
    "class Rectangle(IShape):\n",
    "    def draw(self):\n",
    "        pass"
   ]
  },
  {
   "cell_type": "markdown",
   "id": "d645c5dc-022d-444c-9aad-38c8e70d20c1",
   "metadata": {},
   "source": [
    "Ví dụ với trường hợp đa kế thừa:"
   ]
  },
  {
   "cell_type": "code",
   "execution_count": 37,
   "id": "3e3a9bad-9e2c-4714-b4c2-b92ec3f27109",
   "metadata": {},
   "outputs": [],
   "source": [
    "# printers_isp.py\n",
    "from abc import ABC, abstractmethod\n",
    "\n",
    "\"\"\"\n",
    "Base classes\n",
    "\"\"\"\n",
    "class Printer(ABC):\n",
    "    @abstractmethod\n",
    "    def print(self, document):\n",
    "        pass\n",
    "\n",
    "class Fax(ABC):\n",
    "    @abstractmethod\n",
    "    def fax(self, document):\n",
    "        pass\n",
    "\n",
    "class Scanner(ABC):\n",
    "    @abstractmethod\n",
    "    def scan(self, document):\n",
    "        pass\n",
    "\n",
    "\n",
    "\"\"\"\n",
    "Subclasses\n",
    "\"\"\"\n",
    "class OldPrinter(Printer):\n",
    "    def print(self, document):\n",
    "        print(f\"Printing {document} in black and white...\")\n",
    "\n",
    "\n",
    "class NewPrinter(Printer, Fax, Scanner):\n",
    "    def print(self, document):\n",
    "        print(f\"Printing {document} in color...\")\n",
    "\n",
    "    def fax(self, document):\n",
    "        print(f\"Faxing {document}...\")\n",
    "\n",
    "    def scan(self, document):\n",
    "        print(f\"Scanning {document}...\")"
   ]
  },
  {
   "cell_type": "markdown",
   "id": "0522f64d-1c59-4545-b66a-e8d6a5a45cc3",
   "metadata": {},
   "source": [
    "Với triển khai như trên, ta đã tách biệt được các interfaces (Interface Segregation), bây giờ `Printer`, `Fax` và `Scanner` là các class base cung cấp các interfaces thỏa mãn nguyên tắc SRP (chỉ thực hiện một nhiệm vụ duy nhất).\n",
    "\n",
    "Như vậy với `OldPrinter` chỉ cần kết thừa interface `Printer`, trong khi đó `NewPrinter` sẽ đa kế thừa từ các interfaces `Printer`, `Fax` và `Scanner` để có đủ các methods cần thiết."
   ]
  },
  {
   "cell_type": "markdown",
   "id": "f4d6acb0-ef49-41cd-b7d6-e3d757c9e5c5",
   "metadata": {},
   "source": [
    "# Dependency Inversion Principle (DIP)\n",
    "Nguyên tắc này yêu cầu hai việc:\n",
    "- Các mô-đun cấp cao không nên phụ thuộc vào các mô-đun cấp thấp. Cả hai nên phụ thuộc vào abstractions.\n",
    "- Abstractions không nên phụ thuộc vào chi tiết (details), chi tiết nên phụ thuộc vào abstractions.\n",
    "\n",
    "Sẽ có những thời điểm trong quá trình phát triển, ứng dụng của chúng ta sẽ có nhiều rất module, các module cấp cao phụ thuộc vào các module cấp thấp để chạy. Hãy xem ví dụ sau:"
   ]
  },
  {
   "cell_type": "code",
   "execution_count": 39,
   "id": "e2430eef-b733-4bfd-8e86-62cb481d4b86",
   "metadata": {},
   "outputs": [],
   "source": [
    "class FrontEnd:\n",
    "    def __init__(self, back_end):\n",
    "        self.back_end = back_end\n",
    "\n",
    "    def display_data(self):\n",
    "        data = self.back_end.get_data_from_database()\n",
    "        print(\"Display data:\", data)\n",
    "\n",
    "class BackEnd:\n",
    "    def get_data_from_database(self):\n",
    "        return \"Data from the database\""
   ]
  },
  {
   "cell_type": "markdown",
   "id": "e8ebd62f-d26b-4d39-911e-9da03eb138d4",
   "metadata": {},
   "source": [
    "Trong ví dụ trên, class `Frontend` bị phụ thuộc vào cách triển khai cụ thể của class `Backend`, chính sự liên kết chặt chẽ này khiến nó khó mở rộng. \n",
    "\n",
    "Giả sử bây giờ chúng ta cần đọc dữ liệu từ một nguồn khác như REST API chẳng hạn, thì sẽ triển khai thế nào?\n",
    "- Thêm method mới `get_data_from_api` trong class `Backend`\n",
    "- Sửa class `Frontend` để có thể đọc dữ liệu từ method `get_data_from_api` -> vi phạm open-closed principle.\n",
    "\n",
    "Bằng cách áp dụng DIP, ta sẽ làm cho class `Frontend` phụ thuộc vào abstractions, thay vì phụ thuộc vào class `Backend` được triển khai cụ thể."
   ]
  },
  {
   "cell_type": "code",
   "execution_count": 45,
   "id": "d72e8c27-0747-4a21-909f-b04efb83cc12",
   "metadata": {},
   "outputs": [
    {
     "name": "stdout",
     "output_type": "stream",
     "text": [
      "Display data: Data from the database\n",
      "Display data: Data from the API\n"
     ]
    }
   ],
   "source": [
    "from abc import ABC, abstractmethod\n",
    "\n",
    "class FrontEnd:\n",
    "    def __init__(self, data_source):\n",
    "        self.data_source = data_source\n",
    "\n",
    "    def display_data(self):\n",
    "        data = self.data_source.get_data()\n",
    "        return f\"Display data: {data}\"\n",
    "\n",
    "class DataSource(ABC):\n",
    "    @abstractmethod\n",
    "    def get_data(self):\n",
    "        pass\n",
    "\n",
    "class Database(DataSource):\n",
    "    def get_data(self):\n",
    "        return \"Data from the database\"\n",
    "\n",
    "class API(DataSource):\n",
    "    def get_data(self):\n",
    "        return \"Data from the API\"\n",
    "\n",
    "\n",
    "# Run\n",
    "db_front_end = FrontEnd(Database())\n",
    "print(db_front_end.display_data())\n",
    "\n",
    "api_front_end = FrontEnd(API())\n",
    "print(api_front_end.display_data())"
   ]
  },
  {
   "cell_type": "markdown",
   "id": "bb181a63-be9a-4a59-8a48-0d5932e0ed01",
   "metadata": {},
   "source": [
    "Thêm một ví dụ khác:"
   ]
  },
  {
   "cell_type": "code",
   "execution_count": 46,
   "id": "7e98e9d5-bac2-44c0-a109-ad5dc969f86d",
   "metadata": {},
   "outputs": [
    {
     "name": "stdout",
     "output_type": "stream",
     "text": [
      "pizza was baked\n",
      "pizza was ate\n",
      "bread was baked\n",
      "bread was ate\n"
     ]
    }
   ],
   "source": [
    "class IFood:\n",
    "    def bake(self):\n",
    "        raise NotImplemented\n",
    "\n",
    "    def eat(self):\n",
    "        raise NotImplemented\n",
    "\n",
    "\n",
    "class Pizza(IFood):\n",
    "    def bake(self):\n",
    "        print(\"pizza was baked\")\n",
    "\n",
    "    def eat(self):\n",
    "        print(\"pizza was ate\")\n",
    "\n",
    "\n",
    "class Bread(IFood):\n",
    "    def bake(self):\n",
    "        print(\"bread was baked\")\n",
    "\n",
    "    def eat(self):\n",
    "        print(\"bread was ate\")\n",
    "\n",
    "\n",
    "class Production:\n",
    "    def __init__(self, food: IFood):\n",
    "        self.food = food\n",
    "\n",
    "    def produce(self):\n",
    "        self.food.bake()\n",
    "\n",
    "    def consume(self):\n",
    "        self.food.eat()\n",
    "\n",
    "\n",
    "if __name__ == '__main__':\n",
    "    pizza = Pizza()\n",
    "    bread = Bread()\n",
    "    \n",
    "    p = Production(pizza)\n",
    "    p.produce()\n",
    "    p.consume()\n",
    "    \n",
    "    b = Production(bread)\n",
    "    b.produce()\n",
    "    b.consume()"
   ]
  },
  {
   "cell_type": "markdown",
   "id": "3d97b397-5820-48e1-bcc3-28ed1ad79901",
   "metadata": {},
   "source": [
    "Ở đây ta có các module cấp thấp là `Bread` và `Pizza`, module cấp cao là `Production`. 2 module này giao tiếp với nhau bằng interface `IFood`, giúp cho chương trình trở lên linh hoạt hơn. Module `Production` chỉ cần sử dụng các method trong `IFood` mà không bị ràng buộc hay cần quan tâm object nào sẽ được truyền vào. Ta có thể truyền vào pizza hoặc bread."
   ]
  },
  {
   "cell_type": "code",
   "execution_count": null,
   "id": "7464b137-1844-436c-a347-ead6ea1137cd",
   "metadata": {},
   "outputs": [],
   "source": []
  }
 ],
 "metadata": {
  "kernelspec": {
   "display_name": "Python 3 (ipykernel)",
   "language": "python",
   "name": "python3"
  },
  "language_info": {
   "codemirror_mode": {
    "name": "ipython",
    "version": 3
   },
   "file_extension": ".py",
   "mimetype": "text/x-python",
   "name": "python",
   "nbconvert_exporter": "python",
   "pygments_lexer": "ipython3",
   "version": "3.8.0"
  }
 },
 "nbformat": 4,
 "nbformat_minor": 5
}
